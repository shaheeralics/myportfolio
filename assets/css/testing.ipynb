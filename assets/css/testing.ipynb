{
 "cells": [
  {
   "cell_type": "markdown",
   "metadata": {},
   "source": [
    "Prompt: Tool Sorting Game\n",
    "\n",
    "Create an interactive drag-and-drop web-based game using HTML, CSS, and JavaScript. The game should involve four cupboards labeled as follows:\n",
    "\n",
    "Data Preprocessing\n",
    "Data Analysis\n",
    "Model Training\n",
    "Model Deployment\n",
    "Game Overview:\n",
    "\n",
    "The user will drag and drop tools into the correct cupboards. Each cupboard can only accept certain tools.\n",
    "If a tool is placed in the wrong cupboard, the game will end, and the user will be shown a \"Game Over\" message with the option to \"Play Again.\"\n",
    "Tools can be reused between the Data Preprocessing and Data Analysis cupboards.\n",
    "Features and Rules:\n",
    "\n",
    "Cupboards & Tools:\n",
    "\n",
    "Data Preprocessing Cupboard: Accepts tools: pandas, numpy, seaborn, matplotlib, plotly.\n",
    "Data Analysis Cupboard: Accepts tools: pandas, numpy, seaborn, matplotlib, plotly.\n",
    "Model Training Cupboard: Accepts tools: scikit-learn, tensorflow, pytorch.\n",
    "Model Deployment Cupboard: Accepts tools: streamlit, flask, fast api.\n",
    "Tool List: Tools available for dragging:\n",
    "\n",
    "pandas, numpy, seaborn, matplotlib, plotly, scikit-learn, tensorflow, pytorch, streamlit, flask, fast api.\n",
    "Drag and Drop Mechanics:\n",
    "\n",
    "The user will be able to drag a tool and drop it into a cupboard.\n",
    "If the tool is correct for that cupboard, it will be placed inside, the user will gain 1 point, and the tool will shrink to 25% of its original size.\n",
    "each cupboard should have three columns, and in each column 2 tools can fit easily when they are shrinked.\n",
    "If the tool is placed in the wrong cupboard, the game will end, showing a \"Game Over\" message.\n",
    "Scoreboard:\n",
    "\n",
    "A scoreboard at the top of the screen will display the user's current score.\n",
    "The score increments by 20 point for each correct tool placement.\n",
    "Game Over & Reset:\n",
    "\n",
    "If a tool is placed in the wrong cupboard, the game ends.\n",
    "A \"Game Over\" message is shown with a \"Play Again\" button that resets the game.\n",
    "Styling:\n",
    "\n",
    "The cupboards should be visually distinct with borders and labels., having grey color, and the tools have the pallate #ffd169\n",
    "tools will be a logo of that tool , which in background will be linked to it through online link.\n",
    "When a tool is dropped correctly, it should shrink to 25% of its size, using a smooth transition effect.\n",
    "Example Behavior:\n",
    "\n",
    "The user drags the pandas tool into the Data Preprocessing cupboard. It’s correct, so the score increments by 1, and the tool shrinks to 25%.\n",
    "The user drags tensorflow into Model Deployment. Since it's incorrect, the game ends, and a \"Game Over\" message appears, offering the option to restart the game. if all the tools used correct, then it will give the message ,congrajulations, you have won the game.\n",
    "make sure that your code does not affect my website, as i will use your code in my about page, in a section (<section></section>)"
   ]
  },
  {
   "cell_type": "code",
   "execution_count": null,
   "metadata": {},
   "outputs": [],
   "source": []
  }
 ],
 "metadata": {
  "language_info": {
   "name": "python"
  }
 },
 "nbformat": 4,
 "nbformat_minor": 2
}
